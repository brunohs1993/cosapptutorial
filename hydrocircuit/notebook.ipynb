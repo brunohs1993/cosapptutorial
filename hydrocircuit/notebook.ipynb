{
 "cells": [
  {
   "cell_type": "code",
   "execution_count": 1,
   "metadata": {},
   "outputs": [],
   "source": [
    "from cosapp.base import System\n",
    "from components.pipe import Pipe\n",
    "from components.reservoir import IntakeReservoir, DischargeReservoir\n",
    "from components.pump import Pump\n",
    "from components.fluid import Fluid\n",
    "from cosapp.drivers import NonLinearSolver"
   ]
  },
  {
   "cell_type": "code",
   "execution_count": 2,
   "metadata": {},
   "outputs": [],
   "source": [
    "# generate piping\n",
    "\n",
    "class Circuit(System):\n",
    "    def setup(self):\n",
    "        # setting systems\n",
    "        self.add_child(IntakeReservoir(\"res_in\"), pulling = [\"density\", \"gravity\", \"atmosphere\"])\n",
    "        self.add_child(Pipe(\"pipe_1\"), pulling=[\"kin_viscosity\", \"density\", \"mass_flow\"])\n",
    "        self.add_child(Pump(\"pump\"), pulling = [\"density\", \"mass_flow\"])\n",
    "        self.add_child(Pipe(\"pipe_2\"), pulling=[\"kin_viscosity\", \"density\", \"mass_flow\"])\n",
    "        self.add_child(DischargeReservoir(\"res_out\"), pulling = [\"density\", \"gravity\", \"atmosphere\"])\n",
    "        \n",
    "        # connecting\n",
    "        self.connect(self.res_in.outwards, self.pipe_1.inwards, {\"pressure_out\": \"pressure_in\"})\n",
    "        self.connect(self.pipe_1.outwards, self.pump.inwards, {\"pressure_out\": \"pressure_in\"})\n",
    "        self.connect(self.pump.outwards, self.pipe_2.inwards, {\"pressure_out\": \"pressure_in\"})\n",
    "        self.connect(self.pipe_2.outwards, self.res_out.inwards, {\"pressure_out\": \"pressure_in\"})\n",
    "\n",
    "        self.add_unknown(\"mass_flow\")\n",
    "        self.add_driver(NonLinearSolver(\"circuit_solver\"))\n",
    "    \n",
    "    def compute(self):\n",
    "        pass        "
   ]
  },
  {
   "cell_type": "code",
   "execution_count": 10,
   "metadata": {},
   "outputs": [
    {
     "name": "stdout",
     "output_type": "stream",
     "text": [
      "1.0\n",
      "22731.005144925643\n",
      "28942014.642097767\n",
      "57884029.284195535\n"
     ]
    }
   ],
   "source": [
    "# give a fluid to the circuit\n",
    "\n",
    "class HydroCircuit(System):\n",
    "    def setup(self):\n",
    "        self.add_child(Circuit('piping'))\n",
    "        self.add_child(Fluid('water'))\n",
    "        \n",
    "        self.connect(self.piping.inwards, self.water.outwards, ['density', 'kin_viscosity'])\n",
    "    \n",
    "    def compute(self):\n",
    "        pass\n",
    "\n",
    "# instantiate\n",
    "s = HydroCircuit('system')\n",
    "\n",
    "# set fluid properties\n",
    "s.water.density = 1e3\n",
    "s.water.kin_viscosity = 1e-6\n",
    "\n",
    "# set piping custom properties\n",
    "s.piping.res_in.level = 10\n",
    "s.piping.pipe_2.diameter = 0.5\n",
    "\n",
    "# run\n",
    "s.run_drivers()\n",
    "\n",
    "# plot some results to check\n",
    "print(s.piping.mass_flow)\n",
    "print(s.piping.pipe_1.fluid.reynolds)\n",
    "print(s.piping.pipe_2.fluid.reynolds)"
   ]
  },
  {
   "cell_type": "markdown",
   "metadata": {},
   "source": []
  }
 ],
 "metadata": {
  "kernelspec": {
   "display_name": "Python 3",
   "language": "python",
   "name": "python3"
  },
  "language_info": {
   "codemirror_mode": {
    "name": "ipython",
    "version": 3
   },
   "file_extension": ".py",
   "mimetype": "text/x-python",
   "name": "python",
   "nbconvert_exporter": "python",
   "pygments_lexer": "ipython3",
   "version": "3.12.2"
  }
 },
 "nbformat": 4,
 "nbformat_minor": 2
}
